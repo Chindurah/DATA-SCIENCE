{
 "cells": [
  {
   "cell_type": "raw",
   "id": "87fbf76a-7dd6-4296-94ed-f31904d69353",
   "metadata": {},
   "source": [
    "Q1. Create one variable containing following type of data:\n",
    "(i) string\n",
    "(ii) list\n",
    "(iii) float\n",
    "(iv) tuple"
   ]
  },
  {
   "cell_type": "code",
   "execution_count": 1,
   "id": "2836c0df-e77f-4bee-b251-2773bbdf6e1d",
   "metadata": {},
   "outputs": [
    {
     "name": "stdout",
     "output_type": "stream",
     "text": [
      "<class 'str'>\n",
      "<class 'list'>\n",
      "<class 'float'>\n",
      "<class 'tuple'>\n"
     ]
    }
   ],
   "source": [
    "a=\"pwskills\"\n",
    "b=[1,2,3]\n",
    "c=2.2\n",
    "d=(2,9)\n",
    "print(type(a))\n",
    "print(type(b))\n",
    "print(type(c))\n",
    "print(type(d))"
   ]
  },
  {
   "cell_type": "raw",
   "id": "f2e17b95-ef3c-4a10-901e-035d655e9a56",
   "metadata": {},
   "source": [
    "Q2. Given are some following variables containing data:\n",
    "(i) var1 = ‘ ‘\n",
    "(ii) var2 = ‘[ DS , ML , Python]’\n",
    "(iii) var3 = [ ‘DS’ , ’ML’ , ‘Python’ ]\n",
    "(iv) var4 = 1.\n",
    "What will be the data type of the above given variable.\n",
    "\n",
    "\n",
    "ANSWER:\n",
    "i)string\n",
    "ii)string\n",
    "iii)list\n",
    "iv)float\n",
    "\n",
    "lets check this with type() function"
   ]
  },
  {
   "cell_type": "code",
   "execution_count": 5,
   "id": "be026d47-f0c1-46b3-ba15-0a52755a197b",
   "metadata": {},
   "outputs": [
    {
     "name": "stdout",
     "output_type": "stream",
     "text": [
      "<class 'str'>\n",
      "<class 'str'>\n",
      "<class 'list'>\n",
      "<class 'float'>\n"
     ]
    }
   ],
   "source": [
    "var1 = ''\n",
    "var2 = '[ DS , ML , Python]'\n",
    "var3 = [ 'DS' , 'ML' , 'Python' ]\n",
    "var4 = 1.\n",
    "print(type(var1))\n",
    "print(type(var2))\n",
    "print(type(var3))\n",
    "print(type(var4))"
   ]
  },
  {
   "cell_type": "raw",
   "id": "189db5d6-84d9-4c4b-9a56-0642652890cd",
   "metadata": {},
   "source": [
    "Q3. Explain the use of the following operators using an example:\n",
    "(i) /\n",
    "(ii) %\n",
    "(iii) //\n",
    "(iv) **\n",
    "\n",
    "ANSWER:\n",
    "/ is division operator and returns the result with floating point number\n",
    "% is modulus operator and returns the remainder\n",
    "// floor division operator returns the result without floating point number\n",
    "** is exponential operator it returns the result which is obtained by multyplying the base num the number of times in the power.\n",
    "\n",
    "\n"
   ]
  },
  {
   "cell_type": "code",
   "execution_count": 6,
   "id": "a9d7311d-1be1-4754-97b0-3c50a29201aa",
   "metadata": {},
   "outputs": [
    {
     "name": "stdout",
     "output_type": "stream",
     "text": [
      "3.3333333333333335\n",
      "1\n",
      "3\n",
      "1000\n"
     ]
    }
   ],
   "source": [
    "a=10\n",
    "b=3\n",
    "print(a/b)\n",
    "print(a%b)\n",
    "print(a//b)\n",
    "print(a**b)"
   ]
  },
  {
   "cell_type": "raw",
   "id": "2930a345-5683-424d-a2d8-75b8b792bf38",
   "metadata": {},
   "source": [
    "Q4. Create a list of length 10 of your choice containing multiple types of data. Using for loop print the\n",
    "element and its data type."
   ]
  },
  {
   "cell_type": "code",
   "execution_count": 7,
   "id": "21e900d4-c4e5-4efc-812e-1ccda2c1ab94",
   "metadata": {},
   "outputs": [
    {
     "name": "stdout",
     "output_type": "stream",
     "text": [
      "c <class 'str'>\n",
      "1 <class 'int'>\n",
      "2.4 <class 'float'>\n",
      "d <class 'str'>\n",
      "55 <class 'int'>\n",
      "[1, 2] <class 'list'>\n",
      "67 <class 'int'>\n",
      "ui <class 'str'>\n",
      "0 <class 'int'>\n",
      "34 <class 'int'>\n"
     ]
    }
   ],
   "source": [
    "lst=['c',1,2.4,'d',55,[1,2],67,'ui',0,34]\n",
    "for i in range(0,len(lst)):\n",
    "    print(lst[i],type(lst[i]))"
   ]
  },
  {
   "cell_type": "raw",
   "id": "c42b5feb-782b-41be-8c07-8c6a07a5eeeb",
   "metadata": {},
   "source": [
    "Q5. Using a while loop, verify if the number A is purely divisible by number B and if so then how many\n",
    "times it can be divisible."
   ]
  },
  {
   "cell_type": "code",
   "execution_count": 8,
   "id": "61f3d139-c02a-4e3f-8dd3-59febf6884b0",
   "metadata": {},
   "outputs": [
    {
     "name": "stdout",
     "output_type": "stream",
     "text": [
      "3\n"
     ]
    }
   ],
   "source": [
    "a=40\n",
    "b=2\n",
    "c=0\n",
    "while(a%b==0):\n",
    "    a=a//b\n",
    "    c=c+1\n",
    "print(c)\n",
    "    "
   ]
  },
  {
   "cell_type": "raw",
   "id": "b987832f-82f6-4d84-95b7-d5c24c89474b",
   "metadata": {},
   "source": [
    "Q6. Create a list containing 25 int type data. Using for loop and if-else condition print if the element is\n",
    "divisible by 3 or not."
   ]
  },
  {
   "cell_type": "code",
   "execution_count": 9,
   "id": "121e2514-1a6e-4152-bd67-626127e288cb",
   "metadata": {},
   "outputs": [
    {
     "name": "stdout",
     "output_type": "stream",
     "text": [
      "1 is not divisible by 3\n",
      "2 is not divisible by 3\n",
      "3 is divisble by 3\n",
      "4 is not divisible by 3\n",
      "5 is not divisible by 3\n",
      "6 is divisble by 3\n",
      "7 is not divisible by 3\n",
      "8 is not divisible by 3\n",
      "9 is divisble by 3\n",
      "10 is not divisible by 3\n",
      "11 is not divisible by 3\n",
      "12 is divisble by 3\n",
      "13 is not divisible by 3\n",
      "14 is not divisible by 3\n",
      "15 is divisble by 3\n",
      "16 is not divisible by 3\n",
      "17 is not divisible by 3\n",
      "18 is divisble by 3\n",
      "19 is not divisible by 3\n",
      "20 is not divisible by 3\n",
      "21 is divisble by 3\n",
      "22 is not divisible by 3\n",
      "23 is not divisible by 3\n",
      "24 is divisble by 3\n",
      "25 is not divisible by 3\n"
     ]
    }
   ],
   "source": [
    "lst=[1,2,3,4,5,6,7,8,9,10,11,12,13,14,15,16,17,18,19,20,21,22,23,24,25]\n",
    "for i in lst:\n",
    "    if i%3==0:\n",
    "        print(i,\"is divisble by 3\")\n",
    "    else:\n",
    "        print(i,\"is not divisible by 3\")"
   ]
  },
  {
   "cell_type": "raw",
   "id": "81f025b8-61e9-40ca-b6c5-d1a1181c22d2",
   "metadata": {},
   "source": [
    "Q7. What do you understand about mutable and immutable data types? Give examples for both showing\n",
    "this property.\n",
    "\n",
    "ANSWER:\n",
    "MUTABLE:We can change the element at a specific index.\n",
    "IMMUTABLE:We cannot change the element at a specific index."
   ]
  },
  {
   "cell_type": "code",
   "execution_count": 10,
   "id": "379b5114-afde-448c-9959-8ab20945f7f7",
   "metadata": {},
   "outputs": [
    {
     "ename": "TypeError",
     "evalue": "'str' object does not support item assignment",
     "output_type": "error",
     "traceback": [
      "\u001b[0;31m---------------------------------------------------------------------------\u001b[0m",
      "\u001b[0;31mTypeError\u001b[0m                                 Traceback (most recent call last)",
      "Cell \u001b[0;32mIn[10], line 2\u001b[0m\n\u001b[1;32m      1\u001b[0m \u001b[38;5;28mstr\u001b[39m\u001b[38;5;241m=\u001b[39m\u001b[38;5;124m\"\u001b[39m\u001b[38;5;124mpwskills\u001b[39m\u001b[38;5;124m\"\u001b[39m\n\u001b[0;32m----> 2\u001b[0m \u001b[38;5;28;43mstr\u001b[39;49m\u001b[43m[\u001b[49m\u001b[38;5;241;43m3\u001b[39;49m\u001b[43m]\u001b[49m\u001b[38;5;241m=\u001b[39m\u001b[38;5;124m\"\u001b[39m\u001b[38;5;124my\u001b[39m\u001b[38;5;124m\"\u001b[39m\n",
      "\u001b[0;31mTypeError\u001b[0m: 'str' object does not support item assignment"
     ]
    }
   ],
   "source": [
    "\n",
    "str=\"pwskills\"\n",
    "str[3]=\"y\""
   ]
  },
  {
   "cell_type": "code",
   "execution_count": null,
   "id": "948a4ace-efee-42fb-8f6c-fce98945d7b9",
   "metadata": {},
   "outputs": [],
   "source": []
  }
 ],
 "metadata": {
  "kernelspec": {
   "display_name": "Python 3 (ipykernel)",
   "language": "python",
   "name": "python3"
  },
  "language_info": {
   "codemirror_mode": {
    "name": "ipython",
    "version": 3
   },
   "file_extension": ".py",
   "mimetype": "text/x-python",
   "name": "python",
   "nbconvert_exporter": "python",
   "pygments_lexer": "ipython3",
   "version": "3.10.8"
  }
 },
 "nbformat": 4,
 "nbformat_minor": 5
}
